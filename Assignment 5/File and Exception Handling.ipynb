{
 "cells": [
  {
   "cell_type": "raw",
   "id": "80d17b1b-eba7-4a63-b9a6-da976d602ad3",
   "metadata": {},
   "source": [
    "1. Write a Python program to read a file and display its contents."
   ]
  },
  {
   "cell_type": "code",
   "execution_count": 9,
   "id": "4152c716-5b4c-4d3b-b90c-a520aa24f278",
   "metadata": {},
   "outputs": [
    {
     "name": "stdout",
     "output_type": "stream",
     "text": [
      "Contents of the file:\n",
      "Hi, this is a sample file.\n"
     ]
    }
   ],
   "source": [
    "#creating a file.\n",
    "\n",
    "file = open('Sample file.txt', 'w')\n",
    "file.write(\"Hi, this is a sample file.\")\n",
    "file.close()\n",
    "\n",
    "#reading the created file.\n",
    "with open ('Sample file.txt', 'r') as sample_file:\n",
    "    data = sample_file.read()\n",
    "    print(\"Contents of the file:\")\n",
    "    print(data)"
   ]
  },
  {
   "cell_type": "raw",
   "id": "703a1abc-5084-4922-9492-3dbea821d130",
   "metadata": {},
   "source": [
    "2. Write a Python program to copy the contents of one file to another file."
   ]
  },
  {
   "cell_type": "code",
   "execution_count": 25,
   "id": "63b89377-bb05-4796-9571-7f11eed80570",
   "metadata": {},
   "outputs": [
    {
     "name": "stdout",
     "output_type": "stream",
     "text": [
      "File file1.txt has created.\n",
      "Contents copied from file1.txt to file2.txt\n",
      "Sample program for copying one file to another.\n"
     ]
    }
   ],
   "source": [
    "file_name1 = 'file1.txt'\n",
    "\n",
    "with open(file_name1, 'w') as file:\n",
    "    file.write(\"Sample program for copying one file to another.\")\n",
    "\n",
    "file_name2 = 'file2.txt'\n",
    "\n",
    "with open(file_name2, 'w') as file:\n",
    "    file.write(\"\")\n",
    "\n",
    "print(f\"File {file_name} has created.\")\n",
    "\n",
    "def copy_file(src_file, dest_file):\n",
    "    with open (src_file, 'r') as file:\n",
    "        content = file.read()\n",
    "\n",
    "    with open (dest_file, 'w') as file: \n",
    "        file.write(content)\n",
    "\n",
    "    print(f\"Contents copied from {src_file} to {dest_file}\")\n",
    "\n",
    "src_file = 'file1.txt'\n",
    "dest_file = 'file2.txt'\n",
    "\n",
    "copy_file(src_file, dest_file)\n",
    "\n",
    "#This block of code for the testing purpose to check whether the contents are getting copied to the destination file.\n",
    "with open(file_name2, 'r') as file:\n",
    "    content1 =  file.read()\n",
    "    print(content1)"
   ]
  },
  {
   "cell_type": "raw",
   "id": "f2533e19-305d-47cb-981b-c8210efc75a7",
   "metadata": {},
   "source": [
    "3.Write a Python program to read the content of a file and count the total number of words in that file."
   ]
  },
  {
   "cell_type": "code",
   "execution_count": 29,
   "id": "c106255b-7635-40e8-90e0-359d7d7115ba",
   "metadata": {},
   "outputs": [
    {
     "name": "stdout",
     "output_type": "stream",
     "text": [
      "Total number of words in the file: 8\n"
     ]
    }
   ],
   "source": [
    "file_name1 = 'file1.txt'\n",
    "\n",
    "with open(file_name1, 'w') as file:\n",
    "    file.write(\"Sample program for copying one file to another.\")\n",
    "    \n",
    "def count_words_in_file(file_name):\n",
    "    try:\n",
    "        with open(file_name, 'r') as file:\n",
    "            content = file.read()\n",
    "            \n",
    "        words = content.split()\n",
    "        num_words = len(words)\n",
    "\n",
    "        return num_words\n",
    "\n",
    "    except FileNotFoundError:\n",
    "        return f\"Error: The file {file_name} was not found.\"\n",
    "\n",
    "file_name = 'file1.txt'\n",
    "word_count = count_words_in_file(file_name)\n",
    "print(f\"Total number of words in the file: {word_count}\")\n"
   ]
  },
  {
   "cell_type": "raw",
   "id": "68a71341-f8cf-40c0-8426-86d21d25255f",
   "metadata": {},
   "source": [
    "4.Write a Python program that prompts the user to input a string and converts it to an integer. Use try-except blocks to handle any exceptions that might occur."
   ]
  },
  {
   "cell_type": "code",
   "execution_count": 44,
   "id": "d8683cd9-25ca-4e0b-afbd-96370d1272dd",
   "metadata": {},
   "outputs": [
    {
     "name": "stdin",
     "output_type": "stream",
     "text": [
      "Please enter a number:  5\n"
     ]
    },
    {
     "name": "stdout",
     "output_type": "stream",
     "text": [
      "The integer value is: 5\n"
     ]
    }
   ],
   "source": [
    "def convert_to_integer():\n",
    "    user_input = input(\"Please enter a number: \")\n",
    "    \n",
    "    try:\n",
    "        number = int(user_input)\n",
    "        print(f\"The integer value is: {number}\")\n",
    "    \n",
    "    except ValueError:\n",
    "        print(\"Error: The input is not a valid integer.\")\n",
    "    \n",
    "convert_to_integer()\n"
   ]
  },
  {
   "cell_type": "raw",
   "id": "71bf896b-0b74-4adb-8ee8-cd45ce9233ec",
   "metadata": {},
   "source": [
    "5. Write a Python program that prompts the user to input a list of integers and raises an exception if any of the integers in the list are negative."
   ]
  },
  {
   "cell_type": "code",
   "execution_count": 56,
   "id": "b60803a1-77c8-469e-9550-f1e2167942c8",
   "metadata": {},
   "outputs": [
    {
     "name": "stdin",
     "output_type": "stream",
     "text": [
      "Enter the size of the list:  5\n",
      "Enter integer 1:  -10\n",
      "Enter integer 2:  20\n",
      "Enter integer 3:  -5\n",
      "Enter integer 4:  30\n",
      "Enter integer 5:  50\n"
     ]
    },
    {
     "name": "stdout",
     "output_type": "stream",
     "text": [
      "Error: Negative integers are not allowed.\n"
     ]
    }
   ],
   "source": [
    "def check_for_negative_integers():\n",
    "    try:\n",
    "        size = int(input(\"Enter the size of the list: \"))\n",
    "        \n",
    "        if size <= 0:\n",
    "            raise ValueError(\"Size must be a positive integer.\")\n",
    "        \n",
    "        integers = []\n",
    "        for i in range(size):\n",
    "            num = int(input(f\"Enter integer {i + 1}: \"))\n",
    "            integers.append(num)\n",
    "        \n",
    "        for num in integers:\n",
    "            if num < 0:\n",
    "                raise ValueError(\"Negative integers are not allowed.\")\n",
    "        \n",
    "        print(\"The list of integers is:\", integers)\n",
    "\n",
    "    except ValueError as e:\n",
    "        print(\"Error:\", e)\n",
    "    except Exception as e:\n",
    "        print(f\"An unexpected error occurred: {e}\")\n",
    "\n",
    "check_for_negative_integers()"
   ]
  },
  {
   "cell_type": "raw",
   "id": "f6a151a5-92d1-4c4e-83fc-29d9ccafdbc9",
   "metadata": {},
   "source": [
    "6. Write a Python program that prompts the user to input a list of integers and computes the average of those integers. Use try-except blocks to handle    any exceptions that might occur.use the finally clause to print a message indicating that the program has finished running."
   ]
  },
  {
   "cell_type": "code",
   "execution_count": 61,
   "id": "627dcee1-a64e-4394-974f-1be460b401e4",
   "metadata": {},
   "outputs": [
    {
     "name": "stdin",
     "output_type": "stream",
     "text": [
      "Enter the size of the list:  3\n",
      "Enter integer 1:  20\n",
      "Enter integer 2:  23\n",
      "Enter integer 3:  30\n"
     ]
    },
    {
     "name": "stdout",
     "output_type": "stream",
     "text": [
      "The average of the entered integers is: 24.333333333333332\n",
      "Program has finished running.\n"
     ]
    }
   ],
   "source": [
    "def average_of_integers():\n",
    "\n",
    "    try:\n",
    "            size = int(input(\"Enter the size of the list: \"))\n",
    "            \n",
    "            if size <= 0:\n",
    "                raise ValueError(\"Size must be a positive integer.\")\n",
    "            \n",
    "            integers = []\n",
    "            for i in range(size):\n",
    "                num = int(input(f\"Enter integer {i + 1}: \"))\n",
    "                integers.append(num)\n",
    "            \n",
    "            if len(integers) == 0:\n",
    "                raise ValueError(\"The list cannot be empty.\")\n",
    "            \n",
    "            average = sum(integers) / len(integers)\n",
    "            print(f\"The average of the entered integers is: {average}\")\n",
    "    \n",
    "    except ValueError as e:\n",
    "        print(\"Error:\", e)\n",
    "    \n",
    "    finally:\n",
    "        print(\"Program has finished running.\")\n",
    "\n",
    "average_of_integers()"
   ]
  },
  {
   "cell_type": "raw",
   "id": "f9e0a98c-9db2-41ef-a3a1-50c28a40cbe8",
   "metadata": {},
   "source": [
    "7. Write a Python program that prompts the user to input a filename and writes a string to that file. Use try-except blocks to handle any exceptions       that might occur and print a welcome message if there is no exception occurred."
   ]
  },
  {
   "cell_type": "code",
   "execution_count": 63,
   "id": "edc739ea-19c1-4dad-a29f-fc7b5fe59f89",
   "metadata": {},
   "outputs": [
    {
     "name": "stdin",
     "output_type": "stream",
     "text": [
      "Please enter the filename:  sample\n"
     ]
    },
    {
     "name": "stdout",
     "output_type": "stream",
     "text": [
      "File written successfully! Welcome!\n"
     ]
    }
   ],
   "source": [
    "def write_to_file():\n",
    "    try:\n",
    "        filename = input(\"Please enter the filename: \")\n",
    "        \n",
    "        with open(filename, 'w') as file:\n",
    "            file.write(\"Hello! This is a test string written to the file.\")\n",
    "        \n",
    "        print(\"File written successfully! Welcome!\")\n",
    "\n",
    "    except Exception as e:\n",
    "        print(f\"An error occurred: {e}\")\n",
    "\n",
    "write_to_file()\n"
   ]
  }
 ],
 "metadata": {
  "kernelspec": {
   "display_name": "Python [conda env:base] *",
   "language": "python",
   "name": "conda-base-py"
  },
  "language_info": {
   "codemirror_mode": {
    "name": "ipython",
    "version": 3
   },
   "file_extension": ".py",
   "mimetype": "text/x-python",
   "name": "python",
   "nbconvert_exporter": "python",
   "pygments_lexer": "ipython3",
   "version": "3.12.7"
  }
 },
 "nbformat": 4,
 "nbformat_minor": 5
}
