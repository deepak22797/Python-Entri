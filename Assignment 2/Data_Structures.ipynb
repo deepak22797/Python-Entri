{
 "cells": [
  {
   "cell_type": "raw",
   "id": "c735e386-70e2-4d2d-bf89-2ec2d74cea11",
   "metadata": {},
   "source": [
    "LIST : EXERCISE Q1"
   ]
  },
  {
   "cell_type": "code",
   "execution_count": 1,
   "id": "1eaa616b-8014-4b4a-99c6-19d7285485a0",
   "metadata": {},
   "outputs": [
    {
     "name": "stdout",
     "output_type": "stream",
     "text": [
      "[5, 10, 15, 20, 25]\n"
     ]
    }
   ],
   "source": [
    "list1 = [5,10,15,20,25]\n",
    "print(list1)"
   ]
  },
  {
   "cell_type": "raw",
   "id": "8068188a-6957-49a0-993b-e3138b70f5e4",
   "metadata": {},
   "source": [
    "EXERCISE Q2"
   ]
  },
  {
   "cell_type": "code",
   "execution_count": 15,
   "id": "d2312f29-133e-4fb9-80f3-28e146c711e6",
   "metadata": {},
   "outputs": [
    {
     "name": "stdout",
     "output_type": "stream",
     "text": [
      "[5, 10, 15, 20, 25, 30, 35, 40]\n"
     ]
    }
   ],
   "source": [
    "list1 = [5,10,15,20,25]\n",
    "list1.extend([30,35,40])\n",
    "print(list1)"
   ]
  },
  {
   "cell_type": "raw",
   "id": "20173f42-492e-42fe-97ce-9fc9ae4ce43b",
   "metadata": {},
   "source": [
    "EXERCISE Q3"
   ]
  },
  {
   "cell_type": "code",
   "execution_count": 23,
   "id": "3510f506-a897-4f96-8b8b-90b806dd0d5d",
   "metadata": {},
   "outputs": [
    {
     "name": "stdout",
     "output_type": "stream",
     "text": [
      "list1 elements are:-\n",
      "5\n",
      "10\n",
      "15\n",
      "20\n",
      "25\n"
     ]
    }
   ],
   "source": [
    "list1 = [5,10,15,20,25]\n",
    "print(\"list1 elements are:-\")\n",
    "for i in list1:\n",
    "    print(i)"
   ]
  },
  {
   "cell_type": "raw",
   "id": "731f9b41-37c3-469a-a1dd-ff699f4fc4be",
   "metadata": {},
   "source": [
    "DICTIONARY : EXERCISE Q1"
   ]
  },
  {
   "cell_type": "code",
   "execution_count": 29,
   "id": "4fa0e97a-13ff-44dd-bdeb-3bcf29096ffc",
   "metadata": {},
   "outputs": [
    {
     "name": "stdout",
     "output_type": "stream",
     "text": [
      "{'name': 'John', 'age': 25, 'address': 'New York'}\n"
     ]
    }
   ],
   "source": [
    "my_dictionary = {\n",
    "    'name' : 'John',\n",
    "    'age' : 25,\n",
    "    'address' : 'New York'\n",
    "}\n",
    "print(my_dictionary)"
   ]
  },
  {
   "cell_type": "raw",
   "id": "6f452e94-6225-439b-93e7-9c774b2531a3",
   "metadata": {},
   "source": [
    "EXERCISE Q2"
   ]
  },
  {
   "cell_type": "code",
   "execution_count": 33,
   "id": "a12688bd-cd08-4b49-bc50-1534aeb8fdb6",
   "metadata": {},
   "outputs": [
    {
     "name": "stdout",
     "output_type": "stream",
     "text": [
      "{'name': 'John', 'age': 25, 'address': 'New York', 'phone': 1234567890}\n"
     ]
    }
   ],
   "source": [
    "my_dictionary = {\n",
    "    'name' : 'John',\n",
    "    'age' : 25,\n",
    "    'address' : 'New York'\n",
    "}\n",
    "my_dictionary.update({'phone' : 1234567890})\n",
    "\n",
    "print(my_dictionary)"
   ]
  },
  {
   "cell_type": "raw",
   "id": "e6b9c2e7-bbf6-4d0d-b43a-b348a933984a",
   "metadata": {},
   "source": [
    "SET : EXERCISE Q1"
   ]
  },
  {
   "cell_type": "code",
   "execution_count": 35,
   "id": "c06213df-2d4f-4c4a-b770-2d61c103e89c",
   "metadata": {},
   "outputs": [
    {
     "name": "stdout",
     "output_type": "stream",
     "text": [
      "{1, 2, 3, 4, 5}\n"
     ]
    }
   ],
   "source": [
    "set_1 = {1,2,3,4,5}\n",
    "print(set_1)"
   ]
  },
  {
   "cell_type": "raw",
   "id": "2d40a282-83ce-4c54-a520-4b752c4455b5",
   "metadata": {},
   "source": [
    "EXERCISE Q2"
   ]
  },
  {
   "cell_type": "code",
   "execution_count": 37,
   "id": "0c292f12-12df-42b6-bf2a-cfb970723844",
   "metadata": {},
   "outputs": [
    {
     "name": "stdout",
     "output_type": "stream",
     "text": [
      "{1, 2, 3, 4, 5, 6}\n"
     ]
    }
   ],
   "source": [
    "set_1 = {1,2,3,4,5}\n",
    "set_1.add(6)\n",
    "print(set_1)"
   ]
  },
  {
   "cell_type": "raw",
   "id": "67b9f526-1852-4504-b445-1e7be49e61aa",
   "metadata": {},
   "source": [
    "EXERCISE Q3"
   ]
  },
  {
   "cell_type": "code",
   "execution_count": 39,
   "id": "016e9daf-5c0b-4c91-beb4-418f5cb07fe6",
   "metadata": {},
   "outputs": [
    {
     "name": "stdout",
     "output_type": "stream",
     "text": [
      "{1, 2, 4, 5}\n"
     ]
    }
   ],
   "source": [
    "set_1 = {1,2,3,4,5}\n",
    "set_1.remove(3)\n",
    "print(set_1)"
   ]
  },
  {
   "cell_type": "raw",
   "id": "99b30eb1-ac6a-4f7c-a43b-291d358667da",
   "metadata": {},
   "source": [
    "TUPLE : EXERCISE Q1"
   ]
  },
  {
   "cell_type": "code",
   "execution_count": 41,
   "id": "cde6525f-5b99-45dc-a7ef-82d7f22a309c",
   "metadata": {},
   "outputs": [
    {
     "name": "stdout",
     "output_type": "stream",
     "text": [
      "(1, 2, 3, 4)\n"
     ]
    }
   ],
   "source": [
    "tuple_1 = (1,2,3,4)\n",
    "print(tuple_1)"
   ]
  },
  {
   "cell_type": "raw",
   "id": "d3e69aa1-5507-497e-b81d-5ecc7b037bd4",
   "metadata": {},
   "source": [
    "EXERCISE Q2"
   ]
  },
  {
   "cell_type": "code",
   "execution_count": 43,
   "id": "6294ac96-b412-4c9a-8031-90e5430632b3",
   "metadata": {},
   "outputs": [
    {
     "name": "stdout",
     "output_type": "stream",
     "text": [
      "4\n"
     ]
    }
   ],
   "source": [
    "tuple_1 = (1,2,3,4)\n",
    "print(len(tuple_1))"
   ]
  },
  {
   "cell_type": "code",
   "execution_count": null,
   "id": "0d2fa45b-fe58-4859-98ed-bebbba3d7615",
   "metadata": {},
   "outputs": [],
   "source": []
  }
 ],
 "metadata": {
  "kernelspec": {
   "display_name": "Python [conda env:base] *",
   "language": "python",
   "name": "conda-base-py"
  },
  "language_info": {
   "codemirror_mode": {
    "name": "ipython",
    "version": 3
   },
   "file_extension": ".py",
   "mimetype": "text/x-python",
   "name": "python",
   "nbconvert_exporter": "python",
   "pygments_lexer": "ipython3",
   "version": "3.12.7"
  }
 },
 "nbformat": 4,
 "nbformat_minor": 5
}
