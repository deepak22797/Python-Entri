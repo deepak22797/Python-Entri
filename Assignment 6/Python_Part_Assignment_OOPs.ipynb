{
 "cells": [
  {
   "cell_type": "raw",
   "id": "e55bb958-2c2a-4745-a1c2-8eb9b31b1b05",
   "metadata": {},
   "source": [
    "Q1. Build a program to manage a university's course catalog. You want to define a base class Course that has the \n",
    "    following properties:\n",
    "    course_code: a string representing the course code (e.g., \"CS101\")\n",
    "    course_name: a string representing the course name (e.g., \"Introduction to Computer Science\")\n",
    "    credit_hours: an integer representing the credit hours for the course (e.g., 3)\n",
    "    You also want to define two subclasses CoreCourse and ElectiveCourse, which inherit from the Course class.\n",
    "    CoreCourse should have an additional property required_for_major which is a boolean representing whether the \n",
    "    course is required for a particular major.\n",
    "    ElectiveCourse should have an additional property elective_type which is a string representing the type of \n",
    "    elective (e.g., \"general\", \"technical\", \"liberal arts\")."
   ]
  },
  {
   "cell_type": "code",
   "execution_count": 1,
   "id": "a47be988-c122-4973-9df5-e7c962807f19",
   "metadata": {},
   "outputs": [
    {
     "name": "stdout",
     "output_type": "stream",
     "text": [
      "CS101: Introduction to Programming (3 credit hours)\n",
      "MATH201: Linear Algebra (4 credit hours) - Required for Major: True\n",
      "ART105: Modern Art (2 credit hours) - Elective Type: liberal arts\n"
     ]
    }
   ],
   "source": [
    "class Course:\n",
    "    def __init__(self, course_code, course_name, credit_hours):\n",
    "        self.course_code = course_code\n",
    "        self.course_name = course_name\n",
    "        self.credit_hours = credit_hours\n",
    "\n",
    "    def __str__(self):\n",
    "        return f\"{self.course_code}: {self.course_name} ({self.credit_hours} credit hours)\"\n",
    "\n",
    "class CoreCourse(Course):\n",
    "    def __init__(self, course_code, course_name, credit_hours, required_for_major):\n",
    "        super().__init__(course_code, course_name, credit_hours)\n",
    "        self.required_for_major = required_for_major\n",
    "\n",
    "    def __str__(self):\n",
    "        return super().__str__() + f\" - Required for Major: {self.required_for_major}\"\n",
    "\n",
    "class ElectiveCourse(Course):\n",
    "    def __init__(self, course_code, course_name, credit_hours, elective_type):\n",
    "        super().__init__(course_code, course_name, credit_hours)\n",
    "        self.elective_type = elective_type\n",
    "\n",
    "    def __str__(self):\n",
    "        return super().__str__() + f\" - Elective Type: {self.elective_type}\"\n",
    "\n",
    "# Creating course instances\n",
    "cs101 = Course(\"CS101\", \"Introduction to Programming\", 3)\n",
    "core_math = CoreCourse(\"MATH201\", \"Linear Algebra\", 4, True)\n",
    "art_elective = ElectiveCourse(\"ART105\", \"Modern Art\", 2, \"liberal arts\")\n",
    "\n",
    "# Display course information\n",
    "print(cs101)        # CS101: Introduction to Programming (3 credit hours)\n",
    "print(core_math)    # MATH201: Linear Algebra (4 credit hours) - Required for Major: True\n",
    "print(art_elective) # ART105: Modern Art (2 credit hours) - Elective Type: liberal arts\n",
    "\n"
   ]
  },
  {
   "cell_type": "code",
   "execution_count": null,
   "id": "97e6f655-3046-40d9-b217-0c781dbd83d2",
   "metadata": {},
   "outputs": [],
   "source": [
    "Q2. Create a Python module named employee that contains a class Employee with attributes name, salary and \n",
    "    methods get_name() and get_salary(). Write a program to use this module to create an object of the Employee \n",
    "    class and display its name and salary."
   ]
  },
  {
   "cell_type": "code",
   "execution_count": null,
   "id": "c7342df1-d3cb-47cd-b615-58bc179a1aa4",
   "metadata": {},
   "outputs": [],
   "source": [
    "# employee.py\n",
    "\n",
    "class Employee:\n",
    "    def __init__(self, name, salary):\n",
    "        self.name = name\n",
    "        self.salary = salary\n",
    "\n",
    "    def get_name(self):\n",
    "        return self.name\n",
    "\n",
    "    def get_salary(self):\n",
    "        return self.salary\n"
   ]
  },
  {
   "cell_type": "code",
   "execution_count": 5,
   "id": "b863a936-c3d1-4e5b-aa6b-c45bcdfe5784",
   "metadata": {},
   "outputs": [
    {
     "name": "stdout",
     "output_type": "stream",
     "text": [
      "Employee Name: John Doe\n",
      "Employee Salary: $50000\n"
     ]
    }
   ],
   "source": [
    "# Import the Employee class from the employee module\n",
    "from employee import Employee\n",
    "   \n",
    "# Create an Employee object\n",
    "emp = Employee(\"John Doe\", 50000)\n",
    "\n",
    "# Display the employee's name and salary\n",
    "print(f\"Employee Name: {emp.get_name()}\")\n",
    "print(f\"Employee Salary: ${emp.get_salary()}\")\n",
    "\n",
    "\n"
   ]
  },
  {
   "cell_type": "code",
   "execution_count": null,
   "id": "c74eb59e-f223-44a3-9468-5f71a066656f",
   "metadata": {},
   "outputs": [],
   "source": []
  }
 ],
 "metadata": {
  "kernelspec": {
   "display_name": "Python [conda env:base] *",
   "language": "python",
   "name": "conda-base-py"
  },
  "language_info": {
   "codemirror_mode": {
    "name": "ipython",
    "version": 3
   },
   "file_extension": ".py",
   "mimetype": "text/x-python",
   "name": "python",
   "nbconvert_exporter": "python",
   "pygments_lexer": "ipython3",
   "version": "3.12.7"
  }
 },
 "nbformat": 4,
 "nbformat_minor": 5
}
