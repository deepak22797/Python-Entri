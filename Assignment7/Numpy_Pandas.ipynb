{
 "cells": [
  {
   "cell_type": "raw",
   "id": "2deef836-8d83-4cb5-b1cb-cd10adc6fa06",
   "metadata": {},
   "source": [
    "Q1. Create a numpy array containing the numbers from 1 to 10, and then reshape it to a 2x5 matrix."
   ]
  },
  {
   "cell_type": "code",
   "execution_count": 1,
   "id": "fce3cd63-87e6-453d-a7ac-f186190413c9",
   "metadata": {},
   "outputs": [
    {
     "name": "stdout",
     "output_type": "stream",
     "text": [
      "[[ 1  2  3  4  5]\n",
      " [ 6  7  8  9 10]]\n"
     ]
    }
   ],
   "source": [
    "import numpy as np\n",
    "\n",
    "# Creating a numpy array from 1 to 10\n",
    "array = np.arange(1, 11)\n",
    "\n",
    "# Reshape the array to a 2x5 matrix\n",
    "reshaped_array = array.reshape(2, 5)\n",
    "\n",
    "print(reshaped_array)\n"
   ]
  },
  {
   "cell_type": "raw",
   "id": "9b51e28d-d957-44e7-85d8-a45c72dd924a",
   "metadata": {},
   "source": [
    "Q2. Create a numpy array containing the numbers from 1 to 20, and then extract the elements between the 5th and 15th index."
   ]
  },
  {
   "cell_type": "code",
   "execution_count": 3,
   "id": "b67e7bb0-0c59-4739-ab6d-8e0ddfc13c63",
   "metadata": {},
   "outputs": [
    {
     "name": "stdout",
     "output_type": "stream",
     "text": [
      "[ 5  6  7  8  9 10 11 12 13 14 15]\n"
     ]
    }
   ],
   "source": [
    "import numpy as np\n",
    "\n",
    "# Creating a numpy array from 1 to 20\n",
    "array = np.arange(1, 21)\n",
    "\n",
    "# Extract elements between the 5th and 15th index\n",
    "extracted_elements = array[4:15] \n",
    "\n",
    "print(extracted_elements)\n"
   ]
  },
  {
   "cell_type": "raw",
   "id": "e9e6c1bb-b4ab-419c-8a11-b51091bbe875",
   "metadata": {},
   "source": [
    "Q3. Create a Pandas series with the following data: {'apples': 3, 'bananas': 2, 'oranges': 1}. Then, add a new item to the series with the key 'pears' and the value 4."
   ]
  },
  {
   "cell_type": "code",
   "execution_count": 5,
   "id": "00249fd7-26cc-4438-99ce-f923d8146206",
   "metadata": {},
   "outputs": [
    {
     "name": "stdout",
     "output_type": "stream",
     "text": [
      "apples     3\n",
      "bananas    2\n",
      "oranges    1\n",
      "pears      4\n",
      "dtype: int64\n"
     ]
    }
   ],
   "source": [
    "import pandas as pd\n",
    "\n",
    "# Creating a pandas series\n",
    "series = pd.Series({'apples': 3, 'bananas': 2, 'oranges': 1})\n",
    "\n",
    "# Add a new item to the series\n",
    "series['pears'] = 4\n",
    "\n",
    "print(series)\n"
   ]
  },
  {
   "cell_type": "raw",
   "id": "2443183e-94e8-4381-b6ce-0e2c34a5b6bb",
   "metadata": {},
   "source": [
    "Q4. Create a dataframe with the following columns: name, age, and gender. The dataframe should have 10 rows of data."
   ]
  },
  {
   "cell_type": "code",
   "execution_count": 7,
   "id": "80601b06-489d-48f7-bdf9-e9cd53f4b2c2",
   "metadata": {},
   "outputs": [
    {
     "name": "stdout",
     "output_type": "stream",
     "text": [
      "        name  age  gender\n",
      "0   Person 1   26  Female\n",
      "1   Person 2   38  Female\n",
      "2   Person 3   41    Male\n",
      "3   Person 4   42  Female\n",
      "4   Person 5   45  Female\n",
      "5   Person 6   27  Female\n",
      "6   Person 7   40    Male\n",
      "7   Person 8   43  Female\n",
      "8   Person 9   32    Male\n",
      "9  Person 10   34    Male\n"
     ]
    }
   ],
   "source": [
    "import pandas as pd\n",
    "import numpy as np\n",
    "\n",
    "# Generating random data for the dataframe\n",
    "data = {\n",
    "    'name': [f'Person {i}' for i in range(1, 11)],\n",
    "    'age': np.random.randint(20, 50, size=10),\n",
    "    'gender': np.random.choice(['Male', 'Female'], size=10)\n",
    "}\n",
    "\n",
    "# Create a dataframe\n",
    "df = pd.DataFrame(data)\n",
    "\n",
    "print(df)\n"
   ]
  },
  {
   "cell_type": "raw",
   "id": "f945f8f9-3f3d-4122-8a1b-1a053cedf461",
   "metadata": {},
   "source": [
    "Q5. Add a new column to the data frame created in question 1, called occupation. The values for this column should be Programmer, Manager, and Analyst, corresponding to the rows in the dataframe."
   ]
  },
  {
   "cell_type": "code",
   "execution_count": 9,
   "id": "109fb595-46b0-463e-8fc9-760c604b6ed7",
   "metadata": {},
   "outputs": [
    {
     "name": "stdout",
     "output_type": "stream",
     "text": [
      "        name  age  gender  Occupation\n",
      "0   Person 1   20    Male  Programmer\n",
      "1   Person 2   33  Female     Manager\n",
      "2   Person 3   38  Female     Analyst\n",
      "3   Person 4   41    Male  Programmer\n",
      "4   Person 5   44    Male     Manager\n",
      "5   Person 6   29  Female     Analyst\n",
      "6   Person 7   48  Female  Programmer\n",
      "7   Person 8   22  Female     Manager\n",
      "8   Person 9   31    Male     Analyst\n",
      "9  Person 10   23    Male  Programmer\n"
     ]
    }
   ],
   "source": [
    "import pandas as pd\n",
    "import numpy as np\n",
    "\n",
    "# Generating random data for the dataframe\n",
    "data = {\n",
    "    'name': [f'Person {i}' for i in range(1, 11)],\n",
    "    'age': np.random.randint(20, 50, size=10),\n",
    "    'gender': np.random.choice(['Male', 'Female'], size=10)\n",
    "}\n",
    "\n",
    "# Create a dataframe\n",
    "df = pd.DataFrame(data)\n",
    "\n",
    "occupations = ['Programmer', 'Manager', 'Analyst', 'Programmer', 'Manager',\n",
    "               'Analyst', 'Programmer', 'Manager', 'Analyst', 'Programmer']\n",
    "df['Occupation'] = occupations[:10] \n",
    "\n",
    "print(df)"
   ]
  },
  {
   "cell_type": "raw",
   "id": "1d9abd0f-4446-48ce-bd05-73674b18b21e",
   "metadata": {},
   "source": [
    "Q6. Select the rows of the dataframe where the age is greater than or equal to 30."
   ]
  },
  {
   "cell_type": "code",
   "execution_count": 11,
   "id": "d32c9625-f55f-49fb-adae-eb0deec43b29",
   "metadata": {},
   "outputs": [
    {
     "name": "stdout",
     "output_type": "stream",
     "text": [
      "        name  age  gender  Occupation\n",
      "1   Person 2   30  Female     Manager\n",
      "2   Person 3   33    Male     Analyst\n",
      "3   Person 4   40  Female  Programmer\n",
      "4   Person 5   43  Female     Manager\n",
      "6   Person 7   49    Male  Programmer\n",
      "7   Person 8   44  Female     Manager\n",
      "9  Person 10   48    Male  Programmer\n"
     ]
    }
   ],
   "source": [
    "import pandas as pd\n",
    "import numpy as np\n",
    "\n",
    "# Generating random data for the dataframe\n",
    "data = {\n",
    "    'name': [f'Person {i}' for i in range(1, 11)],\n",
    "    'age': np.random.randint(20, 50, size=10),\n",
    "    'gender': np.random.choice(['Male', 'Female'], size=10)\n",
    "}\n",
    "\n",
    "# Create a dataframe\n",
    "df = pd.DataFrame(data)\n",
    "\n",
    "occupations = ['Programmer', 'Manager', 'Analyst', 'Programmer', 'Manager',\n",
    "               'Analyst', 'Programmer', 'Manager', 'Analyst', 'Programmer']\n",
    "df['Occupation'] = occupations[:10] \n",
    "\n",
    "# Select rows where age is greater than or equal to 30\n",
    "filtered_df = df[df['age'] >= 30]\n",
    "\n",
    "print(filtered_df)"
   ]
  },
  {
   "cell_type": "raw",
   "id": "76918ed3-b89c-400b-a5d1-01000a1e9a0e",
   "metadata": {},
   "source": [
    "Q7.Convert this dataframe to a csv file and read that csv file, finally display the contents."
   ]
  },
  {
   "cell_type": "code",
   "execution_count": 13,
   "id": "b4f5da92-dcab-4438-96a8-bf0259678d53",
   "metadata": {},
   "outputs": [
    {
     "name": "stdout",
     "output_type": "stream",
     "text": [
      "        name  age  gender  Occupation\n",
      "0   Person 1   39  Female  Programmer\n",
      "1   Person 2   25    Male     Manager\n",
      "2   Person 3   47  Female     Analyst\n",
      "3   Person 4   23  Female  Programmer\n",
      "4   Person 5   49    Male     Manager\n",
      "5   Person 6   47  Female     Analyst\n",
      "6   Person 7   49  Female  Programmer\n",
      "7   Person 8   36    Male     Manager\n",
      "8   Person 9   32  Female     Analyst\n",
      "9  Person 10   33    Male  Programmer\n"
     ]
    }
   ],
   "source": [
    "import pandas as pd\n",
    "import numpy as np\n",
    "\n",
    "# Generating random data for the dataframe\n",
    "data = {\n",
    "    'name': [f'Person {i}' for i in range(1, 11)],\n",
    "    'age': np.random.randint(20, 50, size=10),\n",
    "    'gender': np.random.choice(['Male', 'Female'], size=10)\n",
    "}\n",
    "\n",
    "# Create a dataframe\n",
    "df = pd.DataFrame(data)\n",
    "\n",
    "occupations = ['Programmer', 'Manager', 'Analyst', 'Programmer', 'Manager',\n",
    "               'Analyst', 'Programmer', 'Manager', 'Analyst', 'Programmer']\n",
    "df['Occupation'] = occupations[:10] \n",
    "\n",
    "# Save the dataframe to a csv file\n",
    "df.to_csv('data.csv', index=False)\n",
    "\n",
    "# Read the csv file\n",
    "read_df = pd.read_csv('data.csv')\n",
    "\n",
    "print(read_df)\n"
   ]
  }
 ],
 "metadata": {
  "kernelspec": {
   "display_name": "Python [conda env:base] *",
   "language": "python",
   "name": "conda-base-py"
  },
  "language_info": {
   "codemirror_mode": {
    "name": "ipython",
    "version": 3
   },
   "file_extension": ".py",
   "mimetype": "text/x-python",
   "name": "python",
   "nbconvert_exporter": "python",
   "pygments_lexer": "ipython3",
   "version": "3.12.7"
  }
 },
 "nbformat": 4,
 "nbformat_minor": 5
}
