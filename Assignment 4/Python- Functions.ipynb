{
 "cells": [
  {
   "cell_type": "raw",
   "id": "187b98bd-95d6-471a-863a-4079354cc531",
   "metadata": {},
   "source": [
    "Q1"
   ]
  },
  {
   "cell_type": "code",
   "execution_count": 30,
   "id": "d041f4a4-7ee9-4cf1-a8ea-12f9138f0d92",
   "metadata": {},
   "outputs": [
    {
     "name": "stdin",
     "output_type": "stream",
     "text": [
      "Enter the size of the list:  5\n"
     ]
    },
    {
     "name": "stdout",
     "output_type": "stream",
     "text": [
      "Enter the elements to the list: \n"
     ]
    },
    {
     "name": "stdin",
     "output_type": "stream",
     "text": [
      " 10\n",
      " 20\n",
      " 30\n",
      " 40\n",
      " 50\n"
     ]
    },
    {
     "name": "stdout",
     "output_type": "stream",
     "text": [
      "[10, 20, 30, 40, 50]\n",
      "Length of the list is 5.\n"
     ]
    }
   ],
   "source": [
    "list = []\n",
    "no_of_elements = int(input(\"Enter the size of the list: \"))\n",
    "print(\"Enter the elements to the list: \")\n",
    "for i in range(no_of_elements):\n",
    "    element = int(input())\n",
    "    list.append(element)\n",
    "print(list)\n",
    "length = len(list)\n",
    "print(f\"Length of the list is {length}.\")"
   ]
  },
  {
   "cell_type": "raw",
   "id": "6dc82733-5083-41a5-89f5-6732057dd709",
   "metadata": {},
   "source": [
    "Q2"
   ]
  },
  {
   "cell_type": "code",
   "execution_count": 34,
   "id": "eff53b0c-3710-45ce-92cc-2ef7072e0441",
   "metadata": {},
   "outputs": [
    {
     "name": "stdin",
     "output_type": "stream",
     "text": [
      "Enter your name:  Deepak\n"
     ]
    },
    {
     "name": "stdout",
     "output_type": "stream",
     "text": [
      "Hello, [Deepak]!\n"
     ]
    }
   ],
   "source": [
    "name = input(\"Enter your name: \")\n",
    "\n",
    "def greet(inp_name):\n",
    "    print(f\"Hello, [{inp_name}]!\")\n",
    "\n",
    "greet(inp_name)"
   ]
  },
  {
   "cell_type": "raw",
   "id": "df07051c-cf1e-4b80-8cdf-3e5926645731",
   "metadata": {},
   "source": [
    "Q3"
   ]
  },
  {
   "cell_type": "code",
   "execution_count": 40,
   "id": "105402f9-e33f-45b6-943d-2a6bd14996d1",
   "metadata": {},
   "outputs": [
    {
     "name": "stdin",
     "output_type": "stream",
     "text": [
      "Enter the size of the list:  6\n"
     ]
    },
    {
     "name": "stdout",
     "output_type": "stream",
     "text": [
      "Enter the elements to the list: \n"
     ]
    },
    {
     "name": "stdin",
     "output_type": "stream",
     "text": [
      " 10\n",
      " 15\n",
      " 5\n",
      " 22\n",
      " 3\n",
      " 50\n"
     ]
    },
    {
     "name": "stdout",
     "output_type": "stream",
     "text": [
      "[10, 15, 5, 22, 3, 50]\n",
      "Maximum value is 50.\n"
     ]
    }
   ],
   "source": [
    "list = []\n",
    "no_of_elements = int(input(\"Enter the size of the list: \"))\n",
    "print(\"Enter the elements to the list: \")\n",
    "for i in range(no_of_elements):\n",
    "    element = int(input())\n",
    "    list.append(element)\n",
    "print(list)\n",
    "\n",
    "def find_maximum(inp_list):\n",
    "    max_val = 0\n",
    "    for i in list:\n",
    "        if i > max_val:\n",
    "            max_val = i\n",
    "    return max_val\n",
    "\n",
    "output_val = find_maximum(list)\n",
    "print(f\"Maximum value is {output_val}.\")\n",
    "\n"
   ]
  },
  {
   "cell_type": "raw",
   "id": "0a5c7078-56bb-4758-b34c-c9b0b208acde",
   "metadata": {},
   "source": [
    "Q4"
   ]
  },
  {
   "cell_type": "code",
   "execution_count": 44,
   "id": "a0f1cadc-78f6-44a4-a865-7eb753a1ce03",
   "metadata": {},
   "outputs": [
    {
     "name": "stdout",
     "output_type": "stream",
     "text": [
      "Inside the function, local x: 5\n",
      "Outside the function, global x: 10\n"
     ]
    }
   ],
   "source": [
    "'''\n",
    "* Global variable is a variable that is declared outside of any function or class.\n",
    "  These variables can be accessed by any function or block of code in the program after they are defined.\n",
    "\n",
    "* Local variable is a variable that is declared inside a function or a block of code.\n",
    "  These variables are only accessible within the function where they are defined. They cannot be accessed from outside the function.\n",
    "'''\n",
    "\n",
    "x = 10\n",
    "\n",
    "def sample():\n",
    "    x = 5\n",
    "    print(\"Inside the function, local x:\", x) \n",
    "\n",
    "sample()\n",
    "\n",
    "print(\"Outside the function, global x:\", x)\n"
   ]
  },
  {
   "cell_type": "raw",
   "id": "439d4da7-32d2-4e89-9e36-7b3093b0493b",
   "metadata": {},
   "source": [
    "Q5"
   ]
  },
  {
   "cell_type": "code",
   "execution_count": 46,
   "id": "7f2af0af-54de-43a8-8a51-d25678b036e1",
   "metadata": {},
   "outputs": [
    {
     "name": "stdout",
     "output_type": "stream",
     "text": [
      "Area with both length and width provided: 80\n",
      "Area with only length provided (width defaults to 5): 50\n"
     ]
    }
   ],
   "source": [
    "def calculate_area(length, width=5):\n",
    "    area = length * width\n",
    "    return area\n",
    "    \n",
    "area_with_width = calculate_area(10, 8)\n",
    "print(\"Area with both length and width provided:\", area_with_width)\n",
    "\n",
    "area_without_width = calculate_area(10)\n",
    "print(\"Area with only length provided (width defaults to 5):\", area_without_width)\n"
   ]
  }
 ],
 "metadata": {
  "kernelspec": {
   "display_name": "Python [conda env:base] *",
   "language": "python",
   "name": "conda-base-py"
  },
  "language_info": {
   "codemirror_mode": {
    "name": "ipython",
    "version": 3
   },
   "file_extension": ".py",
   "mimetype": "text/x-python",
   "name": "python",
   "nbconvert_exporter": "python",
   "pygments_lexer": "ipython3",
   "version": "3.12.7"
  }
 },
 "nbformat": 4,
 "nbformat_minor": 5
}
