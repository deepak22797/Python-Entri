{
 "cells": [
  {
   "cell_type": "code",
   "execution_count": null,
   "id": "a1726b4a-1f6c-4b86-acfb-e7dd712630f7",
   "metadata": {},
   "outputs": [],
   "source": [
    "EXERCISE 1"
   ]
  },
  {
   "cell_type": "code",
   "execution_count": 1,
   "id": "28ce94c6-1d99-439f-bcdb-26f497715741",
   "metadata": {},
   "outputs": [
    {
     "name": "stdin",
     "output_type": "stream",
     "text": [
      "Enter the month:  3\n"
     ]
    },
    {
     "name": "stdout",
     "output_type": "stream",
     "text": [
      "Month 3 is March\n"
     ]
    }
   ],
   "source": [
    "months = {\n",
    "    1: \"January\", 2: \"February\", 3: \"March\", 4: \"April\", 5: \"May\", 6: \"June\",\n",
    "    7: \"July\", 8: \"August\", 9: \"September\", 10: \"October\", 11: \"November\", 12: \"December\"\n",
    "}\n",
    "\n",
    "month_number = int(input(\"Enter the month: \"))\n",
    "\n",
    "if month_number in range(1,13):\n",
    "     print(f\"Month {month_number} is {months[month_number]}\")\n",
    "else:\n",
    "    print(\"Invalid input! Please enter a number between 1 and 12.\")"
   ]
  },
  {
   "cell_type": "raw",
   "id": "f206b29c-9cf0-4daf-9712-117844c32997",
   "metadata": {},
   "source": [
    "EXERCISE 2"
   ]
  },
  {
   "cell_type": "code",
   "execution_count": 9,
   "id": "603d3935-506a-4f58-b3ba-2141d96b01b6",
   "metadata": {},
   "outputs": [
    {
     "name": "stdin",
     "output_type": "stream",
     "text": [
      "Enter your age:  63\n"
     ]
    },
    {
     "name": "stdout",
     "output_type": "stream",
     "text": [
      "Your ticket costs 2.00 pounds\n"
     ]
    }
   ],
   "source": [
    "full_price = 6\n",
    "\n",
    "age = int(input(\"Enter your age: \"))\n",
    "\n",
    "if age < 16:\n",
    "    ticket_price = full_price / 2 \n",
    "elif age >= 60:\n",
    "    ticket_price = full_price / 3 \n",
    "else:\n",
    "    ticket_price = full_price  \n",
    "\n",
    "print(f\"Your ticket costs {ticket_price:.2f} pounds\")"
   ]
  },
  {
   "cell_type": "raw",
   "id": "688452c5-10dd-4602-88df-e7afbd39d4e5",
   "metadata": {},
   "source": [
    "EXERCISE 3"
   ]
  },
  {
   "cell_type": "code",
   "execution_count": 13,
   "id": "7839a3d4-2784-4a65-aa2a-e009da36a8e1",
   "metadata": {},
   "outputs": [
    {
     "name": "stdin",
     "output_type": "stream",
     "text": [
      "Enter your weight in (kg):  75\n",
      "Enter your height in (m):  1.70\n"
     ]
    },
    {
     "name": "stdout",
     "output_type": "stream",
     "text": [
      "Your BMI is: 25.95\n",
      "You are in the Overweight range\n"
     ]
    }
   ],
   "source": [
    "weight = float(input(f\"Enter your weight in (kg): \")) \n",
    "height = float(input(f\"Enter your height in (m): \"))\n",
    "BMI = weight/(height ** 2)\n",
    "\n",
    "print(f\"Your BMI is: {BMI:.2f}\") \n",
    "\n",
    "if BMI < 18.5:\n",
    "    status = \"Underweight\"\n",
    "elif BMI >= 18.5 and BMI <= 24.9:\n",
    "    status = \"Normal\"\n",
    "elif BMI >= 25 and BMI <= 29.9:\n",
    "    status = \"Overweight\"\n",
    "elif BMI >= 30:\n",
    "    status = \"Obese\"\n",
    "\n",
    "print(f\"You are in the {status} range\")"
   ]
  },
  {
   "cell_type": "raw",
   "id": "4b73f02f-aa0b-450e-865a-8db4304d84cc",
   "metadata": {},
   "source": [
    "EXERCISE 4"
   ]
  },
  {
   "cell_type": "code",
   "execution_count": 15,
   "id": "b6db711c-8c7a-4b4d-878b-cd28bf08ebd4",
   "metadata": {},
   "outputs": [
    {
     "name": "stdin",
     "output_type": "stream",
     "text": [
      "Enter the first number:  15\n",
      "Enter the second number:  10\n",
      "Enter the third number:  25\n"
     ]
    },
    {
     "name": "stdout",
     "output_type": "stream",
     "text": [
      "25 is greatest among three numbers\n"
     ]
    }
   ],
   "source": [
    "num1 = input(\"Enter the first number: \")\n",
    "num2 = input(\"Enter the second number: \")\n",
    "num3 = input(\"Enter the third number: \")\n",
    "\n",
    "if num1 > num2 and num1 > num3:\n",
    "    print(f\"{num1} is greatest among the three numbers\")\n",
    "elif num2 > num1 and num2 > num3:\n",
    "    print(f\"{num2} is greatest among the three numbers\")\n",
    "else:\n",
    "    print(f\"{num3} is greatest among the three numbers\")\n"
   ]
  },
  {
   "cell_type": "raw",
   "id": "496f94c6-3bad-46a8-b2da-99841cb7d0e0",
   "metadata": {},
   "source": [
    "EXERCISE 5"
   ]
  },
  {
   "cell_type": "code",
   "execution_count": 20,
   "id": "07304b37-59c5-4053-b7cb-afddcfe5c847",
   "metadata": {},
   "outputs": [
    {
     "name": "stdin",
     "output_type": "stream",
     "text": [
      "Enter the number for which you want to find the factorial:  5\n"
     ]
    },
    {
     "name": "stdout",
     "output_type": "stream",
     "text": [
      "5! is 120.\n"
     ]
    }
   ],
   "source": [
    "num = int(input(\"Enter the number for which you want to find the factorial: \"))\n",
    "fact = 1\n",
    "\n",
    "for i in range(1, num+1):\n",
    "    fact *= i\n",
    "\n",
    "print(f\"{num}! is {fact}.\")\n",
    "\n",
    "    "
   ]
  },
  {
   "cell_type": "raw",
   "id": "5805db6e-f1bd-4c4a-adf6-2d5ac8a03fb1",
   "metadata": {},
   "source": [
    "EXERCISE 6"
   ]
  },
  {
   "cell_type": "code",
   "execution_count": 24,
   "id": "beb39823-b42a-4368-868e-58b82e128b53",
   "metadata": {},
   "outputs": [
    {
     "name": "stdin",
     "output_type": "stream",
     "text": [
      "Enter the number you want to reverse:  123\n"
     ]
    },
    {
     "name": "stdout",
     "output_type": "stream",
     "text": [
      "Reversed number is 321.\n"
     ]
    }
   ],
   "source": [
    "num = int(input(\"Enter the number you want to reverse: \"))\n",
    "reversed_num = 0\n",
    "\n",
    "while num > 0:\n",
    "    digit = num % 10\n",
    "    reversed_num = reversed_num * 10 + digit\n",
    "    num = num // 10\n",
    "\n",
    "print(f\"Reversed number is {reversed_num}.\")\n",
    "    "
   ]
  },
  {
   "cell_type": "raw",
   "id": "28c4d18e-5f77-431e-9e12-4567f5e7e63b",
   "metadata": {},
   "source": [
    "EXERCISE 7"
   ]
  },
  {
   "cell_type": "code",
   "execution_count": 32,
   "id": "72c1db00-affb-41a6-8b3c-82779294fd1d",
   "metadata": {},
   "outputs": [
    {
     "name": "stdin",
     "output_type": "stream",
     "text": [
      "Enter a number:  50\n"
     ]
    },
    {
     "name": "stdout",
     "output_type": "stream",
     "text": [
      "The multiples of 50 are: \n",
      "1\n",
      "2\n",
      "5\n",
      "10\n",
      "25\n",
      "50\n"
     ]
    }
   ],
   "source": [
    "num = int(input(\"Enter a number: \"))\n",
    "list = []\n",
    "\n",
    "for i in range(1, num+1):\n",
    "    if num%i == 0:\n",
    "        list.append(i)\n",
    "print(f\"The multiples of {num} are: \" )\n",
    "for i in list:\n",
    "    print(i)\n",
    "\n",
    "\n"
   ]
  },
  {
   "cell_type": "raw",
   "id": "934a0ef7-5e6e-45ca-9c4c-8fbdb96bd8a2",
   "metadata": {},
   "source": [
    "EXERCISE 8"
   ]
  },
  {
   "cell_type": "code",
   "execution_count": 34,
   "id": "0579cb75-b0b1-4c07-8393-7d1bfd4ed856",
   "metadata": {},
   "outputs": [
    {
     "name": "stdin",
     "output_type": "stream",
     "text": [
      ": hello there\n"
     ]
    },
    {
     "name": "stdout",
     "output_type": "stream",
     "text": [
      "hello there\n"
     ]
    },
    {
     "name": "stdin",
     "output_type": "stream",
     "text": [
      ": finished\n"
     ]
    },
    {
     "name": "stdout",
     "output_type": "stream",
     "text": [
      "finished\n"
     ]
    },
    {
     "name": "stdin",
     "output_type": "stream",
     "text": [
      ": done\n"
     ]
    },
    {
     "name": "stdout",
     "output_type": "stream",
     "text": [
      "Done\n"
     ]
    }
   ],
   "source": [
    "while True:\n",
    "    user_input = input(\":\")\n",
    "\n",
    "    if user_input.lower() == \"done\":\n",
    "        print(\"Done\")\n",
    "        break\n",
    "\n",
    "    print(user_input)\n",
    "\n",
    "\n",
    "        \n",
    "    "
   ]
  },
  {
   "cell_type": "raw",
   "id": "3980bc84-f189-4558-96bb-469344c4c486",
   "metadata": {},
   "source": [
    "EXERCISE 9"
   ]
  },
  {
   "cell_type": "code",
   "execution_count": 36,
   "id": "85759dbd-2fb2-475a-a6dd-82daf7340a15",
   "metadata": {},
   "outputs": [
    {
     "name": "stdout",
     "output_type": "stream",
     "text": [
      "1\n",
      "2\n",
      "Fizz\n",
      "4\n",
      "Buzz\n",
      "Fizz\n",
      "7\n",
      "8\n",
      "Fizz\n",
      "Buzz\n"
     ]
    }
   ],
   "source": [
    "for i in range(1,11):\n",
    "\n",
    "    if i % 3 == 0 and i % 5 == 0:\n",
    "        print(\"FizzBuzz\")\n",
    "    elif i % 3 == 0:\n",
    "        print(\"Fizz\")\n",
    "    elif i % 5 == 0:\n",
    "        print(\"Buzz\")\n",
    "    else:\n",
    "        print(i)\n",
    "\n"
   ]
  },
  {
   "cell_type": "raw",
   "id": "d052c769-8689-4ece-a28b-95ed66dc84eb",
   "metadata": {},
   "source": [
    "EXERCISE 10"
   ]
  },
  {
   "cell_type": "code",
   "execution_count": 44,
   "id": "e804f11d-db3d-4a24-8502-0204bc05e230",
   "metadata": {},
   "outputs": [
    {
     "name": "stdout",
     "output_type": "stream",
     "text": [
      "5 4 3 2 1 \n",
      "4 3 2 1 \n",
      "3 2 1 \n",
      "2 1 \n",
      "1 \n"
     ]
    }
   ],
   "source": [
    "for i in range(5,0,-1):\n",
    "    for j in range(i,0,-1 ):\n",
    "        print(j,end = \" \")\n",
    "    print()"
   ]
  },
  {
   "cell_type": "code",
   "execution_count": null,
   "id": "03630c15-1c50-4cf3-a820-929fc119f674",
   "metadata": {},
   "outputs": [],
   "source": []
  }
 ],
 "metadata": {
  "kernelspec": {
   "display_name": "Python [conda env:base] *",
   "language": "python",
   "name": "conda-base-py"
  },
  "language_info": {
   "codemirror_mode": {
    "name": "ipython",
    "version": 3
   },
   "file_extension": ".py",
   "mimetype": "text/x-python",
   "name": "python",
   "nbconvert_exporter": "python",
   "pygments_lexer": "ipython3",
   "version": "3.12.7"
  }
 },
 "nbformat": 4,
 "nbformat_minor": 5
}
