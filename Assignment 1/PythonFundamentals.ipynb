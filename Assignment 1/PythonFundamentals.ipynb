{
 "cells": [
  {
   "cell_type": "raw",
   "id": "a8cd52d2-f4ee-475e-9ba5-285e4cf00225",
   "metadata": {},
   "source": [
    "EXERCISE 1"
   ]
  },
  {
   "cell_type": "code",
   "execution_count": 15,
   "id": "c5d8f8b3-6fc8-4c63-84e0-028a7e210453",
   "metadata": {},
   "outputs": [
    {
     "name": "stdout",
     "output_type": "stream",
     "text": [
      "Your name: Bob ,  Student No:  ST1001 ,  Email:  bob@gmail.com\n"
     ]
    }
   ],
   "source": [
    "name = \"Bob\"\n",
    "student_no = \"ST1001\"\n",
    "email = \"bob@gmail.com\"\n",
    "print(\"Your name:\",name ,\", \",\"Student No: \", student_no,\", \", \"Email: \",  email)\n",
    "\n",
    "\n"
   ]
  },
  {
   "cell_type": "raw",
   "id": "370a508c-796f-478a-a8b9-2ea7f91b2922",
   "metadata": {},
   "source": [
    "EXERCISE 2"
   ]
  },
  {
   "cell_type": "code",
   "execution_count": 17,
   "id": "5a6a279d-0d2f-4f97-8baa-19f58a16bf25",
   "metadata": {},
   "outputs": [
    {
     "name": "stdout",
     "output_type": "stream",
     "text": [
      "Bob ST1001 bob@gmail.com\n"
     ]
    }
   ],
   "source": [
    "name = \"Bob\"\n",
    "student_no = \"ST1001\"\n",
    "email = \"bob@gmail.com\"\n",
    "print(name, end= \" \")\n",
    "print(student_no, end= \" \")\n",
    "print(email)"
   ]
  },
  {
   "cell_type": "raw",
   "id": "b5cdf1de-8462-4a05-a0da-3ed0ced28130",
   "metadata": {},
   "source": [
    "EXERCISE 3"
   ]
  },
  {
   "cell_type": "code",
   "execution_count": 23,
   "id": "a9a38381-29d8-42ed-b6b4-cac45196c515",
   "metadata": {},
   "outputs": [
    {
     "name": "stdin",
     "output_type": "stream",
     "text": [
      "Enter your first number:  10\n",
      "Enter your second number:  5\n"
     ]
    },
    {
     "name": "stdout",
     "output_type": "stream",
     "text": [
      "Sum:  15.0\n",
      "Difference:  5.0\n",
      "Product:  50.0\n",
      "Division:  2.0\n"
     ]
    }
   ],
   "source": [
    "firstNumber = float(input(\"Enter your first number: \"))\n",
    "secondNumber = float(input(\"Enter your second number: \"))\n",
    "\n",
    "addition =  firstNumber+secondNumber\n",
    "\n",
    "if firstNumber>secondNumber:\n",
    "    subraction = firstNumber - secondNumber\n",
    "else:\n",
    "    subraction = secondNumber - firstNumber\n",
    "    \n",
    "multiplication = firstNumber * secondNumber\n",
    "\n",
    "if secondNumber != 0:\n",
    "    division = firstNumber / secondNumber\n",
    "else:\n",
    "    division = \"Undefined (division by zero)\"\n",
    "\n",
    "print(\"Sum: \", addition)\n",
    "print(\"Difference: \", subraction)\n",
    "print(\"Product: \", multiplication)\n",
    "print(\"Division: \", division)"
   ]
  },
  {
   "cell_type": "raw",
   "id": "b5366582-8fe3-4e6a-83c3-301f84d60ddd",
   "metadata": {},
   "source": [
    "EXERCISE 4"
   ]
  },
  {
   "cell_type": "code",
   "execution_count": 25,
   "id": "f5734de1-3861-4b13-8d83-50db4dd7b821",
   "metadata": {},
   "outputs": [
    {
     "name": "stdout",
     "output_type": "stream",
     "text": [
      "1 2 3 4 5 "
     ]
    }
   ],
   "source": [
    "for i in range(1,6):\n",
    "    print(i,end= \" \")"
   ]
  },
  {
   "cell_type": "raw",
   "id": "d599730c-7fe1-42c4-b833-d0d7c8239381",
   "metadata": {},
   "source": [
    "EXERCISE 5"
   ]
  },
  {
   "cell_type": "code",
   "execution_count": 41,
   "id": "f3a6a153-01e9-4d0d-8459-a419264ada65",
   "metadata": {},
   "outputs": [
    {
     "name": "stdout",
     "output_type": "stream",
     "text": [
      "\"SDK\" stands for \"Software Development Kit\",\n",
      "whereas \"IDE\" stands for \"Integrated Development Environment\".\n"
     ]
    }
   ],
   "source": [
    "print(\"\\\"SDK\\\" stands for \\\"Software Development Kit\\\",\\nwhereas \\\"IDE\\\" stands for \\\"Integrated Development Environment\\\".\")"
   ]
  },
  {
   "cell_type": "raw",
   "id": "8eea6076-f5a9-4b8d-a5da-850ded5b2d2c",
   "metadata": {},
   "source": [
    "EXERCISE 6"
   ]
  },
  {
   "cell_type": "code",
   "execution_count": 45,
   "id": "b2034d9f-f4fa-4e4e-a80e-2c920a428cc3",
   "metadata": {},
   "outputs": [
    {
     "name": "stdout",
     "output_type": "stream",
     "text": [
      "python is an \"awesome\" language.\n"
     ]
    }
   ],
   "source": [
    "print(\"python is an \\\"awesome\\\" language.\")"
   ]
  },
  {
   "cell_type": "code",
   "execution_count": 47,
   "id": "2f581f0d-3e56-4be8-af77-b50e9932399a",
   "metadata": {},
   "outputs": [
    {
     "name": "stdout",
     "output_type": "stream",
     "text": [
      "python\n",
      "\t2023\n"
     ]
    }
   ],
   "source": [
    "print(\"python\\n\\t2023\")"
   ]
  },
  {
   "cell_type": "code",
   "execution_count": 49,
   "id": "e55e1ea6-0257-422d-865c-a03288cecbe7",
   "metadata": {},
   "outputs": [
    {
     "name": "stdout",
     "output_type": "stream",
     "text": [
      "I'm from Entri\n"
     ]
    }
   ],
   "source": [
    "print('I\\'m from Entri.\\b')"
   ]
  },
  {
   "cell_type": "code",
   "execution_count": 51,
   "id": "76406b89-8bb6-4552-be4c-306658aae8ee",
   "metadata": {},
   "outputs": [
    {
     "name": "stdout",
     "output_type": "stream",
     "text": [
      "5\n"
     ]
    }
   ],
   "source": [
    "print(\"\\65\")"
   ]
  },
  {
   "cell_type": "code",
   "execution_count": 53,
   "id": "364738fd-9de9-446c-956f-8db3de18265d",
   "metadata": {},
   "outputs": [
    {
     "name": "stdout",
     "output_type": "stream",
     "text": [
      "e\n"
     ]
    }
   ],
   "source": [
    "print(\"\\x65\")"
   ]
  },
  {
   "cell_type": "code",
   "execution_count": 55,
   "id": "a4fe4e1a-74a2-418d-b8ba-0cf00158443a",
   "metadata": {},
   "outputs": [
    {
     "name": "stdout",
     "output_type": "stream",
     "text": [
      "Entri\n",
      "2023\n"
     ]
    }
   ],
   "source": [
    "print(\"Entri\",\"2023\", sep=\"\\n\")"
   ]
  },
  {
   "cell_type": "code",
   "execution_count": 57,
   "id": "81398132-6ef3-46f5-83de-6fa1acd421b9",
   "metadata": {},
   "outputs": [
    {
     "name": "stdout",
     "output_type": "stream",
     "text": [
      "Entr2023\n"
     ]
    }
   ],
   "source": [
    "print(\"Entri\",\"2023\", sep=\"\\b\")"
   ]
  },
  {
   "cell_type": "code",
   "execution_count": 59,
   "id": "f95f6e24-e795-43a2-b045-ed4cf809ab1e",
   "metadata": {},
   "outputs": [
    {
     "name": "stdout",
     "output_type": "stream",
     "text": [
      "Entri*20"
     ]
    }
   ],
   "source": [
    "print(\"Entri\",\"2023\", sep=\"*\", end=\"\\b\\b\\b\\b\")"
   ]
  },
  {
   "cell_type": "raw",
   "id": "ccf003e3-6464-45fc-8baa-1d46ae438917",
   "metadata": {},
   "source": [
    "EXERCISE 7"
   ]
  },
  {
   "cell_type": "code",
   "execution_count": 67,
   "id": "2e7e6f35-b7d2-449e-9030-1cda8f62c3c6",
   "metadata": {},
   "outputs": [
    {
     "name": "stdout",
     "output_type": "stream",
     "text": [
      "Type of num:  <class 'int'>\n",
      "Type of textnum:  <class 'str'>\n",
      "Type of decimal:  <class 'float'>\n",
      "178.3\n",
      "<class 'float'>\n"
     ]
    }
   ],
   "source": [
    "num = 23\n",
    "textnum = \"57\"\n",
    "decimal = 98.3\n",
    "print(\"Type of num: \",type(num))\n",
    "print(\"Type of textnum: \",type(textnum))\n",
    "print(\"Type of decimal: \",type(decimal))\n",
    "sum = num + int(textnum) + decimal\n",
    "print(sum)\n",
    "print(type(sum))"
   ]
  },
  {
   "cell_type": "raw",
   "id": "e8f1ca09-eeb2-4dea-842f-4fb341c29c3f",
   "metadata": {},
   "source": [
    "EXERCISE 8"
   ]
  },
  {
   "cell_type": "code",
   "execution_count": 71,
   "id": "8e606158-c165-4499-b7e9-f104a8cbfa58",
   "metadata": {},
   "outputs": [
    {
     "name": "stdout",
     "output_type": "stream",
     "text": [
      "Calculates the number of minutes in a year using variables for each unit of time\n"
     ]
    },
    {
     "name": "stdin",
     "output_type": "stream",
     "text": [
      "Enter the number of days:  365\n",
      "Enter the number of minutes:  60\n",
      "Enter the number of hours:  24\n"
     ]
    },
    {
     "name": "stdout",
     "output_type": "stream",
     "text": [
      "525600\n"
     ]
    }
   ],
   "source": [
    "print(\"Calculates the number of minutes in a year using variables for each unit of time\")\n",
    "\n",
    "no_of_days_year = int(input(\"Enter the number of days: \"))\n",
    "no_of_minutes_hour = int(input(\"Enter the number of minutes: \"))\n",
    "no_of_hours_day = int(input(\"Enter the number of hours: \"))\n",
    "\n",
    "total_minutes_year = no_of_days_year * no_of_minutes_hour * no_of_hours_day\n",
    "print(total_minutes_year)"
   ]
  },
  {
   "cell_type": "raw",
   "id": "2525df83-52ea-4367-8b66-540623bc54dd",
   "metadata": {},
   "source": [
    "EXERCISE 9"
   ]
  },
  {
   "cell_type": "code",
   "execution_count": 73,
   "id": "01437baa-a38d-4537-b8fb-79dd72af58dc",
   "metadata": {},
   "outputs": [
    {
     "name": "stdin",
     "output_type": "stream",
     "text": [
      "Enter your name:  Tony\n"
     ]
    },
    {
     "name": "stdout",
     "output_type": "stream",
     "text": [
      "Hi Tony welcome to Python programming.\n"
     ]
    }
   ],
   "source": [
    "name = input(\"Enter your name: \")\n",
    "print(f\"Hi {name} welcome to Python programming.\")"
   ]
  }
 ],
 "metadata": {
  "kernelspec": {
   "display_name": "Python [conda env:base] *",
   "language": "python",
   "name": "conda-base-py"
  },
  "language_info": {
   "codemirror_mode": {
    "name": "ipython",
    "version": 3
   },
   "file_extension": ".py",
   "mimetype": "text/x-python",
   "name": "python",
   "nbconvert_exporter": "python",
   "pygments_lexer": "ipython3",
   "version": "3.12.7"
  }
 },
 "nbformat": 4,
 "nbformat_minor": 5
}
