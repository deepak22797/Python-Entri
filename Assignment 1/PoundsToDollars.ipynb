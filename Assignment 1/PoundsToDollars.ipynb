{
 "cells": [
  {
   "cell_type": "code",
   "execution_count": 1,
   "id": "f00061d8-5acd-4e86-9d5b-89ac6b172e86",
   "metadata": {},
   "outputs": [
    {
     "name": "stdin",
     "output_type": "stream",
     "text": [
      "Please enter an amount in pounds:  10\n"
     ]
    },
    {
     "name": "stdout",
     "output_type": "stream",
     "text": [
      "10 pounds are  $12.2\n"
     ]
    }
   ],
   "source": [
    "conversion_rate = 1.22\n",
    "pounds = int(input(\"Please enter an amount in pounds: \"))\n",
    "\n",
    "converted_amount = 1.22 * pounds\n",
    "\n",
    "print(f\"{pounds} pounds are  ${converted_amount}\")"
   ]
  },
  {
   "cell_type": "code",
   "execution_count": null,
   "id": "36837085-c463-477a-91c9-25db8211c792",
   "metadata": {},
   "outputs": [],
   "source": []
  }
 ],
 "metadata": {
  "kernelspec": {
   "display_name": "Python [conda env:base] *",
   "language": "python",
   "name": "conda-base-py"
  },
  "language_info": {
   "codemirror_mode": {
    "name": "ipython",
    "version": 3
   },
   "file_extension": ".py",
   "mimetype": "text/x-python",
   "name": "python",
   "nbconvert_exporter": "python",
   "pygments_lexer": "ipython3",
   "version": "3.12.7"
  }
 },
 "nbformat": 4,
 "nbformat_minor": 5
}
